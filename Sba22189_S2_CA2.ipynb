{
 "cells": [
  {
   "cell_type": "markdown",
   "id": "0027e46c",
   "metadata": {},
   "source": [
    "Gather Twitter data for databases"
   ]
  },
  {
   "cell_type": "code",
   "execution_count": null,
   "id": "b68ea8fa",
   "metadata": {},
   "outputs": [],
   "source": [
    "import requests\n",
    "import json\n",
    "import pandas as pd\n",
    "from dotenv import dotenv_values"
   ]
  },
  {
   "cell_type": "code",
   "execution_count": null,
   "id": "472805f5",
   "metadata": {},
   "outputs": [],
   "source": [
    "\n",
    "config = dotenv_values(\".env\")\n",
    "bearer_token = config[\"BEARER_TOKEN\"]\n",
    "\n",
    "search_url = \"https://api.twitter.com/2/tweets/search/recent\"\n",
    "\n",
    "query_params = {\n",
    "    'query' : '(Beef OR Beef Prices OR Cost of Beef ) Europe lang:en -is:retweet',\n",
    "    'tweet.fields': 'author_id', \n",
    "    'user.fields': 'name',\n",
    "    \"max_results\":\"50\",\n",
    "}\n",
    "\n",
    "def bearer_oauth(r):\n",
    "    r.headers[\"Authorization\"] = f\"Bearer {bearer_token}\"\n",
    "    r.headers[\"User-Agent\"] = \"v2RecentSearchPython\"\n",
    "    return r\n",
    "\n",
    "def connect_to_endpoint(url, params):\n",
    "    response = requests.get(url, auth=bearer_oauth, params=params)\n",
    "    print(response.status_code)\n",
    "    if response.status_code != 200:\n",
    "        raise Exception(response.status_code, response.text)\n",
    "    return response.json()\n",
    "\n",
    "json_response = connect_to_endpoint(search_url, query_params)\n",
    "tweets_data = json_response['data']\n",
    "\n",
    "# Convert the list of dictionaries to a DataFrame\n",
    "df = pd.DataFrame(tweets_data)\n",
    "\n",
    "# Save DataFrame to CSV\n",
    "df.to_csv('~/Downloads/tweets_data.csv', index=False)\n",
    "\n",
    "print(\"Data saved to ~/Downloads/tweets_data.csv\")\n"
   ]
  },
  {
   "cell_type": "code",
   "execution_count": null,
   "id": "218b76dd",
   "metadata": {},
   "outputs": [],
   "source": [
    "#my_api_keyconfig[\"API_KEY\"]\n",
    "from dotenv import dotenv_values\n",
    "\n",
    "config = dotenv_values(\".env\")\n",
    "\n",
    "#Twitter API key and API secret\n",
    "my_api_key = config[\"API_KEY\"]\n",
    "my_api_key_secret = config[\"API_KEY_SECRET\"]\n"
   ]
  }
 ],
 "metadata": {
  "kernelspec": {
   "display_name": "Python 3 (ipykernel)",
   "language": "python",
   "name": "python3"
  },
  "language_info": {
   "codemirror_mode": {
    "name": "ipython",
    "version": 3
   },
   "file_extension": ".py",
   "mimetype": "text/x-python",
   "name": "python",
   "nbconvert_exporter": "python",
   "pygments_lexer": "ipython3",
   "version": "3.10.4"
  }
 },
 "nbformat": 4,
 "nbformat_minor": 5
}
